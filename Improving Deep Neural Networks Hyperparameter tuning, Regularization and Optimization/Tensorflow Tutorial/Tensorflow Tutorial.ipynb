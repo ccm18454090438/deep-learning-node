{
 "cells": [
  {
   "cell_type": "markdown",
   "metadata": {},
   "source": [
    "# TensorFlow教程\n",
    "前面，我们一直都是使用numpy来搭建神经网络。  \n",
    "现在，我们将逐步使用深度学习的框架来更轻松的构建神经网络。 \n",
    "机器学习框架有很多，例如： TensorFlow, PaddlePaddle, Torch, Caffe, Keras等。  \n",
    "本次作业，我们要学习的是TensorFlow框架  \n",
    "我们要学习的操作有： \n",
    "1. 初始化变量 \n",
    "2. 建立自己的会话\n",
    "3. 训练算法\n",
    "4. 实现一个神经网络\n",
    "\n",
    "使用框架可以大幅度缩短编码时间，同时进行优化，提高代码效率。 \n",
    "\n"
   ]
  },
  {
   "cell_type": "markdown",
   "metadata": {},
   "source": [
    "## 初识TensorFlow \n",
    "\n",
    "首先，我们导入TensorFlow和一些其他的库"
   ]
  },
  {
   "cell_type": "code",
   "execution_count": 49,
   "metadata": {},
   "outputs": [],
   "source": [
    "import numpy as np\n",
    "import h5py\n",
    "import matplotlib.pyplot as plt\n",
    "import tensorflow as tf\n",
    "from tensorflow.python.framework import ops\n",
    "import tf_utils\n",
    "import time\n",
    "np.random.seed(1)"
   ]
  },
  {
   "cell_type": "code",
   "execution_count": 2,
   "metadata": {},
   "outputs": [
    {
     "data": {
      "text/plain": [
       "'2.6.0'"
      ]
     },
     "execution_count": 2,
     "metadata": {},
     "output_type": "execute_result"
    }
   ],
   "source": [
    "tf.__version__"
   ]
  },
  {
   "cell_type": "markdown",
   "metadata": {},
   "source": [
    "看一下 TensorFlow的版本，1.* 和2.* 的差别还是很大的。我这里用的是2.6  。"
   ]
  },
  {
   "cell_type": "markdown",
   "metadata": {},
   "source": [
    "下面我们从第一个示例开始，尝试实现loss的计算  \n",
    "$$loss = \\mathcal{L}(\\hat{y}, y) = (\\hat y^{(i)} - y^{(i)})^2 \\tag{1}$$"
   ]
  },
  {
   "cell_type": "code",
   "execution_count": 50,
   "metadata": {},
   "outputs": [
    {
     "name": "stdout",
     "output_type": "stream",
     "text": [
      "9\n"
     ]
    }
   ],
   "source": [
    "tf.compat.v1.disable_eager_execution()           #保证session.run()能够正常运行\n",
    "\n",
    "y_hat = tf.constant(36, name='y_hat')            # 定义y_hat，赋初值为36 Define y_hat constant. Set to 36. \n",
    "y = tf.constant(39, name='y')                    # 定义y 赋初值为39 Define y. Set to 39\n",
    " \n",
    "loss = tf.Variable((y - y_hat)**2, name='loss')  # 为loss函数创建一个变量 Create a variable for the loss\n",
    "init = tf.compat.v1.global_variables_initializer()         # 稍后，运行init时(session.run(init) ) When init is run later (session.run(init)),                                    # the loss variable will be initialized and ready to be computed\n",
    "                                                           # 此loss变量将被初始化，并准备计算 the loss variable will be initialized and ready to be computed\n",
    "with tf.compat.v1.Session () as session:                    #创建一个session并打印输出   Create a session and print the output\n",
    "    session.run(init)                            #初始化变量  Initializes the variables\n",
    "    print(session.run(loss))                     # 打印loss值"
   ]
  },
  {
   "cell_type": "code",
   "execution_count": 51,
   "metadata": {},
   "outputs": [
    {
     "name": "stdout",
     "output_type": "stream",
     "text": [
      "9\n"
     ]
    }
   ],
   "source": [
    "tf.compat.v1.disable_eager_execution()\n",
    "\n",
    "y_hat = tf.constant(36 , name='y_hat')\n",
    "y = tf.constant(39 , name='y')\n",
    "\n",
    "loss = tf.Variable( (y - y_hat)**2 , name = 'loss' )\n",
    "init = tf.compat.v1.global_variables_initializer()\n",
    "\n",
    "with tf.compat.v1.Session() as session: \n",
    "    session.run(init)\n",
    "    print(session.run(loss))\n"
   ]
  },
  {
   "cell_type": "markdown",
   "metadata": {},
   "source": [
    "### 在TensorFlow中编写和运行程序一般遵循以下步骤：   \n",
    "1. 创建尚未执行/计算的变量\n",
    "2. 编写变量间的操作\n",
    "3. 初始化变量\n",
    "4. 创建一个Session\n",
    "5. 运行Session，-> 这将执行上面所编写的操作\n",
    "\n",
    "所以，当我们为loss创建一个变量时，我们只是将loss定义为其他变量的函数，并没有见具体的值。  \n",
    "为了计算它，我们需要运行`init=tf.global_variables_initializer()`。 这将初始化loss函数，同时，在最后一行，我们可以计算loss并打印其值"
   ]
  },
  {
   "cell_type": "markdown",
   "metadata": {},
   "source": [
    "下面看一个更简单的例子"
   ]
  },
  {
   "cell_type": "code",
   "execution_count": 52,
   "metadata": {},
   "outputs": [
    {
     "name": "stdout",
     "output_type": "stream",
     "text": [
      "Tensor(\"Mul:0\", shape=(), dtype=int32)\n"
     ]
    }
   ],
   "source": [
    "a = tf.constant(2)\n",
    "b = tf.constant(10)\n",
    "c = tf.multiply(a,b)\n",
    " \n",
    "print(c)"
   ]
  },
  {
   "cell_type": "markdown",
   "metadata": {},
   "source": [
    "和上面输出的一样，我们的计算结果并不是20，而是一个Tensor类型的变量，没有维度，数据类型为int32，上面我们所作的只是将数据等一些内容放入“计算图”中，并没有实际的去计算，如果要计算，则必须创建一个会话进行计算。"
   ]
  },
  {
   "cell_type": "code",
   "execution_count": 53,
   "metadata": {},
   "outputs": [
    {
     "name": "stdout",
     "output_type": "stream",
     "text": [
      "20\n"
     ]
    }
   ],
   "source": [
    "sess = tf.compat.v1.Session ()\n",
    " \n",
    "print(sess.run(c))"
   ]
  },
  {
   "cell_type": "markdown",
   "metadata": {},
   "source": [
    " 总结一下：  首先初始化变量，然后创建会话，并在会话内进行计算。  \n",
    " 下面，我们来了解一下占位符，占位符是一个对象，其具体值只能在稍后指定，如果要指定占位符的值，则需要通过一个feed字典('feed_dict')传入，下面，我们来试一试"
   ]
  },
  {
   "cell_type": "code",
   "execution_count": 54,
   "metadata": {},
   "outputs": [
    {
     "name": "stdout",
     "output_type": "stream",
     "text": [
      "6\n"
     ]
    }
   ],
   "source": [
    "#利用feed_dict来改变x的值\n",
    " \n",
    "x = tf.compat.v1.placeholder(tf.int64,name=\"x\")\n",
    "print(sess.run(2 * x,feed_dict={x:3}))\n",
    "sess.close()"
   ]
  },
  {
   "cell_type": "markdown",
   "metadata": {},
   "source": [
    "初次定义x时，并不为其指定值，即：占位符只是一个变量，是在运行会话时，才会将数据分配给它，（通过feed_dict）  \n",
    "\n",
    "其实：   \n",
    "指定计算操作时，我们正告诉，TensorFlow如何构造计算图，计算图可以有占位符，可以在以后再指定值，最后，当我们运行会话进行计算时，为占位符指定具体值，并计算结果"
   ]
  },
  {
   "cell_type": "markdown",
   "metadata": {},
   "source": [
    "### 1.1 - Linear function\n",
    "\n",
    "我们计算下面这个等式来开始这个编程练习: $Y = WX + b$,这里的 $W 和 $X 是随机矩阵，b是随机向量。 \n",
    "\n",
    "\n",
    "**练习**:计算$WX + b$ ，其中，$W , $S 和 $b 都来自随机正态分布，W的现状是（4，3），X的形状是（3，1），b的形状是（4，1）。\n",
    "可以参考下面这段代码，用于定义一个形状为（3，1）的常量X  \n",
    "```python\n",
    "X = tf.constant(np.random.randn(3,1), name = \"X\")\n",
    "\n",
    "```\n",
    "你可能还会用到下面这些函数： \n",
    "- tf.matmul(..., ...) 做矩阵乘法。\n",
    "- tf.add(..., ...) 做加法\n",
    "- np.random.randn(...) 做随机初始化\n"
   ]
  },
  {
   "cell_type": "code",
   "execution_count": 55,
   "metadata": {},
   "outputs": [],
   "source": [
    "def linear_function():\n",
    "    \"\"\"\n",
    "    实现一个线性功能：\n",
    "        初始化W为一个维度为（4，3）的tensor变量\n",
    "        初始化X为一个维度为（3，1）的tensor变量\n",
    "        初始化b为一个维度为（4，1）的tensor变量\n",
    "    返回：\n",
    "        result - 根据 Y = WX + b 运行session的结果\n",
    "    \"\"\"\n",
    "    \n",
    "    np.random.seed(1) #指定随机种子\n",
    "    \n",
    "    # 创建矩阵\n",
    "    X = np.random.randn(3,1)\n",
    "    W = np.random.randn(4,3)\n",
    "    b = np.random.randn(4,1)\n",
    "    \n",
    "    Y = tf.add(tf.matmul(W,X),b) #tf.matmul -> 做矩阵乘法\n",
    "    #Y = tf.matmul(W,X) + b #也可以以写成这样子\n",
    "    \n",
    "    #利用tf.session创建会话，并在要计算的变量上使用session.run()运行会话\n",
    "    sess = tf.compat.v1.Session ()\n",
    "    result = sess.run(Y)\n",
    "    \n",
    "    #计算完毕，关闭session\n",
    "    sess.close()\n",
    "    \n",
    "    return result"
   ]
  },
  {
   "cell_type": "code",
   "execution_count": 56,
   "metadata": {},
   "outputs": [
    {
     "name": "stdout",
     "output_type": "stream",
     "text": [
      "result = [[-2.15657382]\n",
      " [ 2.95891446]\n",
      " [-1.08926781]\n",
      " [-0.84538042]]\n"
     ]
    }
   ],
   "source": [
    "print(\"result = \" +  str(linear_function()))"
   ]
  },
  {
   "cell_type": "markdown",
   "metadata": {},
   "source": [
    "*** Expected Output ***: \n",
    "\n",
    "<table> \n",
    "<tr> \n",
    "<td>\n",
    "**result**\n",
    "</td>\n",
    "<td>\n",
    "[[-2.15657382]\n",
    " [ 2.95891446]\n",
    " [-1.08926781]\n",
    " [-0.84538042]]\n",
    "</td>\n",
    "</tr> \n",
    "\n",
    "</table> "
   ]
  },
  {
   "cell_type": "markdown",
   "metadata": {},
   "source": [
    "### 1.2 - Computing the sigmoid   \n",
    "非常好，我们已经实现了线性函数。  \n",
    "TensorFlow提供了很多常用的神经网络函数，例如`tf.sigmoid` 和 `tf.softmax`。 现在，我们练习实现sigmoid函数 \n",
    "\n",
    "\n",
    "这里我们将要用到前面提到过的占位符，我们创建一个变量x，在运行会话时，通过字典传入z。  \n",
    "步骤： \n",
    "1. 创建占位符x\n",
    "2. 定义计算sigmoid所需的操作， 可使用 `tf.sigmoid`\n",
    "3. 运行会话\n",
    "\n",
    "\n",
    "** 练习 **: 实现sigmoid函数。过程中你可能会用到下面的函数 \n",
    "\n",
    "- `tf.placeholder(tf.float32, name = \"...\")`\n",
    "- `tf.sigmoid(...)`\n",
    "- `sess.run(..., feed_dict = {x: z})`\n",
    "\n",
    "\n",
    "注： 在TensorFlow中创建并使用session一般使用下面两种方法： \n",
    "\n",
    "**方法 1:**\n",
    "```python\n",
    "sess = tf.Session()\n",
    "#初始化（如果需要），然后计算  \n",
    "result = sess.run(..., feed_dict = {...})\n",
    "sess.close() # Close the session\n",
    "```\n",
    "**方法 2:**\n",
    "```python\n",
    "with tf.Session() as sess: \n",
    "    # 初始化（如果需要的话） 然后计算\n",
    "    result = sess.run(..., feed_dict = {...})\n",
    "    # 这里会自动关闭会话\n",
    "```\n"
   ]
  },
  {
   "cell_type": "code",
   "execution_count": 57,
   "metadata": {},
   "outputs": [],
   "source": [
    "def sigmoid(z):\n",
    "    \"\"\"\n",
    "    实现sigmoid：\n",
    "    \n",
    "    参数：\n",
    "        z - 输入变量，标量或矢量\n",
    "    \n",
    "    返回：\n",
    "        result - z经过sigmoid计算后的值 即 sigmoid（z）\n",
    "    \n",
    "    \"\"\"\n",
    "    \n",
    "    #创建一个占位符 x，名字叫 “x”\n",
    "    x = tf.compat.v1.placeholder(tf.float32,name=\"x\")\n",
    "    \n",
    "    #计算sigmoid(z)\n",
    "    sigmoid = tf.sigmoid(x)\n",
    "    \n",
    "    #使用方法二创建会话，并运行  注意->通过字典传入变量\n",
    "    with tf.compat.v1.Session () as sess:\n",
    "        result = sess.run(sigmoid,feed_dict={x:z})\n",
    "        \n",
    "    return result"
   ]
  },
  {
   "cell_type": "code",
   "execution_count": 58,
   "metadata": {},
   "outputs": [
    {
     "name": "stdout",
     "output_type": "stream",
     "text": [
      "sigmoid(0) = 0.5\n",
      "sigmoid(12) = 0.9999939\n"
     ]
    }
   ],
   "source": [
    "print (\"sigmoid(0) = \" + str(sigmoid(0)))\n",
    "print (\"sigmoid(12) = \" + str(sigmoid(12)))"
   ]
  },
  {
   "cell_type": "markdown",
   "metadata": {},
   "source": [
    "*** Expected Output ***: \n",
    "\n",
    "<table> \n",
    "<tr> \n",
    "<td>\n",
    "**sigmoid(0)**\n",
    "</td>\n",
    "<td>\n",
    "0.5\n",
    "</td>\n",
    "</tr>\n",
    "<tr> \n",
    "<td>\n",
    "**sigmoid(12)**\n",
    "</td>\n",
    "<td>\n",
    "0.999994\n",
    "</td>\n",
    "</tr> \n",
    "\n",
    "</table> "
   ]
  },
  {
   "cell_type": "markdown",
   "metadata": {},
   "source": [
    "总结： \n",
    "1. 创建占位符\n",
    "2. 创建计算图\n",
    "3. 创建会话\n",
    "4. 运行会话，注意是否要通过字典传入变量"
   ]
  },
  {
   "cell_type": "markdown",
   "metadata": {},
   "source": [
    "### 1.3 -  Computing the Cost\n",
    "\n",
    "我们可以使用内置函数来计算神经网络的cost，所以不需要编写代码计算$a^{[2](i)}$ and $y^{(i)}$ for i=1...m:\n",
    "\n",
    "$$ J = - \\frac{1}{m}  \\sum_{i = 1}^m  \\large ( \\small y^{(i)} \\log a^{ [2] (i)} + (1-y^{(i)})\\log (1-a^{ [2] (i)} )\\large )\\small\\tag{2}$$\n",
    "\n",
    "上面的公式你可以通过一行代码完成  \n",
    "\n",
    "**练习**: 实现交叉熵损失，你将会用到下面的函数  \n",
    "\n",
    "\n",
    "- `tf.nn.sigmoid_cross_entropy_with_logits(logits = ...,  labels = ...)`\n",
    "\n",
    "你所编写的代码，应该接受输入z，然后通过sigmoid计算得出a，然后计算交叉熵损失$J$.所有的这些，都可以通过调用`tf.nn.sigmoid_cross_entropy_with_logits` 进行计算 \n",
    "\n",
    "$$- \\frac{1}{m}  \\sum_{i = 1}^m  \\large ( \\small y^{(i)} \\log \\sigma(z^{[2](i)}) + (1-y^{(i)})\\log (1-\\sigma(z^{[2](i)})\\large )\\small\\tag{2}$$\n",
    "\n"
   ]
  },
  {
   "cell_type": "code",
   "execution_count": 59,
   "metadata": {},
   "outputs": [],
   "source": [
    "# GRADED FUNCTION: cost\n",
    "\n",
    "def cost(logits, labels):\n",
    "    \"\"\"\n",
    "    使用 sigmoid 计算交叉熵损失\n",
    "    \n",
    "    参数: \n",
    "    logists -- 包含z的向量，来自上一个线性单元的输出\n",
    "    labels -- 标签向量y （0 或 1）\n",
    "     \n",
    "    \n",
    "    返回值:\n",
    "    cost -- 运行会话计算多的的结果，即： cost  （参见公式2）\n",
    "    \"\"\"\n",
    "    \n",
    "    \n",
    "    # 创建占位符\n",
    "    z = tf.compat.v1.placeholder(tf.float32, name=\"z\")\n",
    "    y = tf.compat.v1.placeholder(tf.float32, name=\"y\")\n",
    "\n",
    "    \n",
    "    # 使用 内置函数计算\n",
    "    cost = tf.nn.sigmoid_cross_entropy_with_logits(logits=z, labels=y)\n",
    "    \n",
    "    \n",
    "    # 创建session \n",
    "    sess = tf.compat.v1.Session ()\n",
    "    \n",
    "    # 运行session 计算结果\n",
    "    cost = sess.run(cost, feed_dict={z: logits, y: labels})\n",
    "    \n",
    "    # 关闭session\n",
    "    sess.close()\n",
    "    \n",
    "    return cost"
   ]
  },
  {
   "cell_type": "code",
   "execution_count": 60,
   "metadata": {},
   "outputs": [
    {
     "name": "stdout",
     "output_type": "stream",
     "text": [
      "cost = [1.0053872  1.0366409  0.41385433 0.39956614]\n"
     ]
    }
   ],
   "source": [
    "logits = sigmoid(np.array([0.2, 0.4, 0.7, 0.9]))\n",
    "cost = cost(logits, np.array([0, 0, 1, 1]))\n",
    "print (\"cost = \" + str(cost))"
   ]
  },
  {
   "cell_type": "markdown",
   "metadata": {},
   "source": [
    "** Expected Output** : \n",
    "\n",
    "<table> \n",
    "    <tr> \n",
    "        <td>\n",
    "            **cost**\n",
    "        </td>\n",
    "        <td>\n",
    "        [ 1.00538719  1.03664088  0.41385433  0.39956614]\n",
    "        </td>\n",
    "    </tr>\n",
    "\n",
    "</table>"
   ]
  },
  {
   "cell_type": "markdown",
   "metadata": {},
   "source": [
    "### 1.4 - Using One Hot encodings\n",
    "\n",
    "很多时候，你会有一个y向量，数字范围是0-（C-1） 其中，C是分类数，如果C = 4 ，则情况如下\n",
    "\n",
    "\n",
    "<img src=\"images/onehot.png\" style=\"width:600px;height:150px;\">\n",
    "\n",
    "这成为热编码，因为在转换后，每一列只有一个值是’热的‘（为1），在numpy中，实现需要写几行代码，而在TensorFlow中只需要一行代码。 \n",
    "\n",
    "- tf.one_hot(labels, depth, axis) \n",
    "\n",
    "**练习:** 实现下面的这个函数，输入一个标签向量，和一个类总数$C$ ， 并返回一个热编码（使用tf.one_hot来实现）\n"
   ]
  },
  {
   "cell_type": "code",
   "execution_count": 61,
   "metadata": {},
   "outputs": [],
   "source": [
    "def one_hot_matrix(lables,C):\n",
    "    \"\"\"\n",
    "    创建一个矩阵，其中第i行对应于第i个类编号，第j列对应于第j个训练示例。\n",
    "    如果示例j的标签是i。那么结果矩阵（i，j）处的值是1。\n",
    "    \n",
    "    参数：\n",
    "        lables - 标签向量\n",
    "        C - 分类数\n",
    "        \n",
    "    返回：\n",
    "        one_hot - 一个根据labels 和 C 得出的热矩阵\n",
    "    \n",
    "    \"\"\"\n",
    "    \n",
    "    #创建一个tf.constant，赋值为C，名字叫C\n",
    "    C = tf.constant(C,name=\"C\")\n",
    "    \n",
    "    #使用tf.one_hot，计算热矩阵 注意axis的值\n",
    "    one_hot_matrix = tf.one_hot(indices=lables , depth=C , axis=0)\n",
    "    \n",
    "    #创建session\n",
    "    sess =tf.compat.v1.Session () \n",
    "    \n",
    "    #运行session\n",
    "    one_hot = sess.run(one_hot_matrix)\n",
    "    \n",
    "    #关闭session\n",
    "    sess.close()\n",
    "    \n",
    "    return one_hot"
   ]
  },
  {
   "cell_type": "code",
   "execution_count": 62,
   "metadata": {},
   "outputs": [
    {
     "name": "stdout",
     "output_type": "stream",
     "text": [
      "[[0. 0. 0. 1. 0. 0.]\n",
      " [1. 0. 0. 0. 0. 1.]\n",
      " [0. 1. 0. 0. 1. 0.]\n",
      " [0. 0. 1. 0. 0. 0.]]\n"
     ]
    }
   ],
   "source": [
    "labels = np.array([1,2,3,0,2,1])\n",
    "one_hot = one_hot_matrix(labels,C=4)\n",
    "print(str(one_hot))"
   ]
  },
  {
   "cell_type": "markdown",
   "metadata": {},
   "source": [
    "**Expected Output**: \n",
    "\n",
    "<table> \n",
    "    <tr> \n",
    "        <td>\n",
    "            **one_hot**\n",
    "        </td>\n",
    "        <td>\n",
    "        [[ 0.  0.  0.  1.  0.  0.]\n",
    " [ 1.  0.  0.  0.  0.  1.]\n",
    " [ 0.  1.  0.  0.  1.  0.]\n",
    " [ 0.  0.  1.  0.  0.  0.]]\n",
    "        </td>\n",
    "    </tr>\n",
    "\n",
    "</table>\n"
   ]
  },
  {
   "cell_type": "markdown",
   "metadata": {},
   "source": [
    "### 1.5 - Initialize with zeros and ones\n",
    "\n",
    "现在，我们学习如何初始化0向量和1向量，为了完成操作，我们要使用 `tf.ones()`函数 和`tf.zeros()`. \n",
    "函数，接收一个形状，返回一个全0或全1的指定维度的矩阵数组\n",
    "\n",
    "**练习:**  实现下面的函数，接受一个维度值，返回维度为指定值的向量/矩阵 （shape的维度为1）\n",
    "\n",
    " - tf.ones(shape)\n"
   ]
  },
  {
   "cell_type": "code",
   "execution_count": 63,
   "metadata": {},
   "outputs": [],
   "source": [
    "def ones(shape):\n",
    "    \"\"\"\n",
    "    创建一个维度为shape的变量，其值全为1\n",
    "    \n",
    "    参数：\n",
    "        shape - 指定的维度\n",
    "    \n",
    "    返回值：\n",
    "        ones - 只包含1的数组 维度由参数指定    \n",
    "    \"\"\"\n",
    "    \n",
    "    #使用tf.ones() 创建\n",
    "    ones = tf.ones(shape)\n",
    "    \n",
    "    #创建会话\n",
    "    sess = tf.compat.v1.Session () \n",
    "    #运行会话\n",
    "    ones = sess.run(ones)\n",
    "    \n",
    "    #关闭会话\n",
    "    sess.close()\n",
    "    \n",
    "    return ones"
   ]
  },
  {
   "cell_type": "code",
   "execution_count": 64,
   "metadata": {},
   "outputs": [
    {
     "name": "stdout",
     "output_type": "stream",
     "text": [
      "ones = [1. 1. 1.]\n"
     ]
    }
   ],
   "source": [
    "print (\"ones = \" + str(ones([3])))"
   ]
  },
  {
   "cell_type": "markdown",
   "metadata": {},
   "source": [
    "**Expected Output:**\n",
    "\n",
    "<table> \n",
    "    <tr> \n",
    "        <td>\n",
    "            **ones**\n",
    "        </td>\n",
    "        <td>\n",
    "        [ 1.  1.  1.]\n",
    "        </td>\n",
    "    </tr>\n",
    "\n",
    "</table>"
   ]
  },
  {
   "cell_type": "markdown",
   "metadata": {},
   "source": [
    "## 2 - Building your first neural network in tensorflow\n",
    "\n",
    "这部分，我们将要使用TensorFlow构建一个神经网络， 这将由两部分组成： \n",
    "1. 创建计算图\n",
    "2. 运行计算图\n",
    "\n",
    "\n",
    "\n",
    "下面，看一下我们要解决的问题： \n",
    "\n",
    "\n",
    "### 2.0 - Problem statement: SIGNS Dataset\n",
    "\n",
    "\n",
    "一天下午，我们和一些朋友决定教我们的电脑破译手语。我们花了几个小时在一面白墙前拍照，得到了以下数据集。现在，你的工作是建立一种算法，以促进从言语障碍者到不懂手语的人之间的交流。\n",
    "\n",
    "\n",
    "- **训练集**：1080张（64×64像素）的图片，表示0到5之间的数字（每个数字180张）。\n",
    "\n",
    "- **测试集**：120张（64×64像素）的图片，表示从0到5的数字（每个数字20张）。\n",
    "\n",
    "注： 这是符号数据集的一个子集。完整的数据集包含更多的符号。（练习，一般用较小的数据集，这样训练也快。实际应用的训练集一般都非常大）\n",
    " \n",
    "下面是每个数字的示例以及标签如何表示。这是原始图片，是将图像分辨率讲到64 * 64之前的效果  \n",
    "<img src=\"images/hands.png\" style=\"width:800px;height:350px;\"><caption><center> <u><font color='purple'> **Figure 1**</u><font color='purple'>: SIGNS dataset <br> <font color='black'> </center>\n",
    "\n",
    "\n"
   ]
  },
  {
   "cell_type": "markdown",
   "metadata": {},
   "source": [
    "加载数据集"
   ]
  },
  {
   "cell_type": "code",
   "execution_count": 65,
   "metadata": {},
   "outputs": [],
   "source": [
    "# 加载数据\n",
    "X_train_orig , Y_train_orig , X_test_orig , Y_test_orig , classes = tf_utils.load_dataset()#加载数据集"
   ]
  },
  {
   "cell_type": "code",
   "execution_count": 66,
   "metadata": {},
   "outputs": [
    {
     "name": "stdout",
     "output_type": "stream",
     "text": [
      "Y = 1\n"
     ]
    },
    {
     "data": {
      "image/png": "[encoded data removed]",
      "text/plain": [
       "<Figure size 432x288 with 1 Axes>"
      ]
     },
     "metadata": {
      "needs_background": "light"
     },
     "output_type": "display_data"
    }
   ],
   "source": [
    "# 展示一个图片\n",
    "index = 11\n",
    "plt.imshow(X_train_orig[index])\n",
    "print(\"Y = \" + str(np.squeeze(Y_train_orig[:,index])))"
   ]
  },
  {
   "cell_type": "code",
   "execution_count": 67,
   "metadata": {},
   "outputs": [
    {
     "name": "stdout",
     "output_type": "stream",
     "text": [
      "训练集样本数 = 1080\n",
      "测试集样本数 = 120\n",
      "X_train.shape: (12288, 1080)\n",
      "Y_train.shape: (6, 1080)\n",
      "X_test.shape: (12288, 120)\n",
      "Y_test.shape: (6, 120)\n"
     ]
    }
   ],
   "source": [
    "X_train_flatten = X_train_orig.reshape(X_train_orig.shape[0],-1).T #展平数据\n",
    "X_test_flatten = X_test_orig.reshape(X_test_orig.shape[0],-1).T\n",
    " \n",
    "#归一化数据\n",
    "X_train = X_train_flatten / 255\n",
    "X_test = X_test_flatten / 255\n",
    " \n",
    "#转换标签为独热矩阵\n",
    "Y_train = tf_utils.convert_to_one_hot(Y_train_orig,6)\n",
    "Y_test = tf_utils.convert_to_one_hot(Y_test_orig,6)\n",
    " \n",
    "print(\"训练集样本数 = \" + str(X_train.shape[1]))\n",
    "print(\"测试集样本数 = \" + str(X_test.shape[1]))\n",
    "print(\"X_train.shape: \" + str(X_train.shape))\n",
    "print(\"Y_train.shape: \" + str(Y_train.shape))\n",
    "print(\"X_test.shape: \" + str(X_test.shape))\n",
    "print(\"Y_test.shape: \" + str(Y_test.shape))"
   ]
  },
  {
   "cell_type": "markdown",
   "metadata": {},
   "source": [
    "注： 12288 = 64 * 64 * 3"
   ]
  },
  {
   "cell_type": "markdown",
   "metadata": {},
   "source": [
    "**我们的目标**是建立一种能够高精度识别符号的算法。为此，我们要构建一个tensorflow模型，该模型与之前在numpy中为cat识别构建的模型差不多（但现在使用softmax输出）。这是一个比较numpy实现和tensorflow实现的好机会。\n",
    "\n",
    "\n",
    "\n",
    "**模型** 为*线性->RELU->线性->RELU->线性->SOFTMAX*。SIGMOID输出层已转换为SOFTMAX。SOFTMAX层可以将SIGMOID推广到两个以上的类。"
   ]
  },
  {
   "cell_type": "markdown",
   "metadata": {},
   "source": [
    "### 2.1 - Create placeholders\n",
    "\n",
    "我们的第一个任务就是为`X` 和 `Y` 创建占位符，这是为了后面我们运行是传入数据  \n",
    "\n",
    "**练习:** 实现一个函数，功能是在TensorFlow中创建占位符  "
   ]
  },
  {
   "cell_type": "code",
   "execution_count": 68,
   "metadata": {},
   "outputs": [],
   "source": [
    "def create_placeholders(n_x,n_y):\n",
    "    \"\"\"\n",
    "    为TensorFlow会话创建占位符\n",
    "    参数：\n",
    "        n_x -- 标量，图片向量的大小（64*64*3 = 12288）\n",
    "        n_y -- 标量，分类数（这里是从0到5，所以n_y = 6）\n",
    "    \n",
    "    返回值：\n",
    "        X -- 对应数据输入的占位符，维度为[n_x, None]，数据类型是 \"float\"\n",
    "        Y -- 对应输入标签的占位符，维度为[n_Y,None]，数据类型是 \"float\"\n",
    "    \n",
    "    提示：\n",
    "        使用None，因为它让我们可以灵活处理占位符提供的样本数量。事实上，测试/训练期间的样本数量是不同的。\n",
    "    \n",
    "    \"\"\"\n",
    "    \n",
    "    X = tf.compat.v1.placeholder(tf.float32, [n_x, None], name=\"X\")#这里不同的版本可能会有点差别\n",
    "    Y = tf.compat.v1.placeholder(tf.float32, [n_y, None], name=\"Y\")\n",
    "    \n",
    "    return X, Y"
   ]
  },
  {
   "cell_type": "code",
   "execution_count": 69,
   "metadata": {},
   "outputs": [
    {
     "name": "stdout",
     "output_type": "stream",
     "text": [
      "X = Tensor(\"X_4:0\", shape=(12288, ?), dtype=float32)\n",
      "Y = Tensor(\"Y_3:0\", shape=(6, ?), dtype=float32)\n"
     ]
    }
   ],
   "source": [
    "X, Y = create_placeholders(12288, 6)\n",
    "print(\"X = \" + str(X))\n",
    "print(\"Y = \" + str(Y))"
   ]
  },
  {
   "cell_type": "markdown",
   "metadata": {},
   "source": [
    "**Expected Output**: \n",
    "\n",
    "<table> \n",
    "    <tr> \n",
    "        <td>\n",
    "            **X**\n",
    "        </td>\n",
    "        <td>\n",
    "        Tensor(\"Placeholder_1:0\", shape=(12288, ?), dtype=float32) (not necessarily Placeholder_1)\n",
    "        </td>\n",
    "    </tr>\n",
    "    <tr> \n",
    "        <td>\n",
    "            **Y**\n",
    "        </td>\n",
    "        <td>\n",
    "        Tensor(\"Placeholder_2:0\", shape=(6, ?), dtype=float32) (not necessarily Placeholder_2)\n",
    "        </td>\n",
    "    </tr>\n",
    "\n",
    "</table>"
   ]
  },
  {
   "cell_type": "markdown",
   "metadata": {},
   "source": [
    "### 2.2 - Initializing the parameters\n",
    "\n",
    "第二个任务是初始化TensorFlow中的参数  \n",
    "\n",
    "\n",
    "**练习:** 实现下面的函数，初始化TensorFlow中的参数，对于权重，我们使用Xavier初始化，对于偏差，我们使用零初始化。   \n",
    "例如： 对于W1 和 b1，我们可以参考下面这段代码 \n",
    "\n",
    "```python\n",
    "W1 = tf.get_variable(\"W1\", [25,12288], initializer = tf.contrib.layers.xavier_initializer(seed = 1))\n",
    "b1 = tf.get_variable(\"b1\", [25,1], initializer = tf.zeros_initializer())\n",
    "```\n",
    "使用 `seed = 1` 确保结果一致"
   ]
  },
  {
   "cell_type": "code",
   "execution_count": 70,
   "metadata": {},
   "outputs": [],
   "source": [
    "def initialize_parameters():\n",
    "    \"\"\"\n",
    "    初始化神经网络的参数，各参数的维度如下：\n",
    "        W1 : [25, 12288]\n",
    "        b1 : [25, 1]\n",
    "        W2 : [12, 25]\n",
    "        b2 : [12, 1]\n",
    "        W3 : [6, 12]\n",
    "        b3 : [6, 1]\n",
    "    \n",
    "    返回值：\n",
    "        parameters - 包含了W1, b1, W2, b2, W3, b3 的 张量（tensors）字典\n",
    "    \n",
    "    \n",
    "    \"\"\"\n",
    "    tf.random.set_seed(1) #指定随机种子\n",
    "    \n",
    "    # 初始化参数\n",
    "    W1 = tf.compat.v1.get_variable(\"W1\",[25,12288],initializer = tf.initializers.GlorotUniform(seed=1))\n",
    "    b1 = tf.compat.v1.get_variable(\"b1\",[25,1],initializer=tf.zeros_initializer())\n",
    "    W2 = tf.compat.v1.get_variable(\"W2\", [12, 25], initializer = tf.initializers.GlorotUniform(seed=1))\n",
    "    b2 = tf.compat.v1.get_variable(\"b2\", [12, 1], initializer = tf.zeros_initializer())\n",
    "    W3 = tf.compat.v1.get_variable(\"W3\", [6, 12], initializer = tf.initializers.GlorotUniform(seed=1))\n",
    "    b3 = tf.compat.v1.get_variable(\"b3\", [6, 1], initializer = tf.zeros_initializer())\n",
    "    \n",
    "    \n",
    "    parameters = {\"W1\": W1,\n",
    "                  \"b1\": b1,\n",
    "                  \"W2\": W2,\n",
    "                  \"b2\": b2,\n",
    "                  \"W3\": W3,\n",
    "                  \"b3\": b3}\n",
    "    \n",
    "    return parameters"
   ]
  },
  {
   "cell_type": "code",
   "execution_count": 71,
   "metadata": {},
   "outputs": [
    {
     "name": "stdout",
     "output_type": "stream",
     "text": [
      "W1 = <tf.Variable 'W1:0' shape=(25, 12288) dtype=float32_ref>\n",
      "b1 = <tf.Variable 'b1:0' shape=(25, 1) dtype=float32_ref>\n",
      "W2 = <tf.Variable 'W2:0' shape=(12, 25) dtype=float32_ref>\n",
      "b2 = <tf.Variable 'b2:0' shape=(12, 1) dtype=float32_ref>\n"
     ]
    }
   ],
   "source": [
    "ops.reset_default_graph() #用于清除默认图形堆栈并重置全局默认图形。 \n",
    " \n",
    "with tf.compat.v1.Session ()  as sess:\n",
    "    parameters = initialize_parameters()\n",
    "    print(\"W1 = \" + str(parameters[\"W1\"]))\n",
    "    print(\"b1 = \" + str(parameters[\"b1\"]))\n",
    "    print(\"W2 = \" + str(parameters[\"W2\"]))\n",
    "    print(\"b2 = \" + str(parameters[\"b2\"]))"
   ]
  },
  {
   "cell_type": "markdown",
   "metadata": {},
   "source": [
    "**Expected Output**: \n",
    "\n",
    "<table> \n",
    "    <tr> \n",
    "        <td>\n",
    "            **W1**\n",
    "        </td>\n",
    "        <td>\n",
    "         < tf.Variable 'W1:0' shape=(25, 12288) dtype=float32_ref >\n",
    "        </td>\n",
    "    </tr>\n",
    "    <tr> \n",
    "        <td>\n",
    "            **b1**\n",
    "        </td>\n",
    "        <td>\n",
    "        < tf.Variable 'b1:0' shape=(25, 1) dtype=float32_ref >\n",
    "        </td>\n",
    "    </tr>\n",
    "    <tr> \n",
    "        <td>\n",
    "            **W2**\n",
    "        </td>\n",
    "        <td>\n",
    "        < tf.Variable 'W2:0' shape=(12, 25) dtype=float32_ref >\n",
    "        </td>\n",
    "    </tr>\n",
    "    <tr> \n",
    "        <td>\n",
    "            **b2**\n",
    "        </td>\n",
    "        <td>\n",
    "        < tf.Variable 'b2:0' shape=(12, 1) dtype=float32_ref >\n",
    "        </td>\n",
    "    </tr>\n",
    "\n",
    "</table>"
   ]
  },
  {
   "cell_type": "markdown",
   "metadata": {},
   "source": [
    "参数只有物理空间，并未赋值，因为我们还没有创建会话和运行。"
   ]
  },
  {
   "cell_type": "markdown",
   "metadata": {},
   "source": [
    "### 2.3 - Forward propagation in tensorflow \n",
    "\n",
    "现在，我们要实现TensorFlow中的前向传播模块，该函数，接受一个参数字典，并完成前向传播，该函数可能会用到下面的几个函数  \n",
    "\n",
    "- `tf.add(...,...)` 做加法\n",
    "- `tf.matmul(...,...)` 做矩阵乘法\n",
    "- `tf.nn.relu(...)` 应用ReLU激活函数\n",
    "\n",
    "**问题:** 实现神经网络的前向传播，  我们会注释上numpy的等价实现，以便可以将tensorflow实现与numpy进行比较。最重要的是前向传播要在Z3处停止，因为在TensorFlow中最后的线性输出层的输出作为计算损失函数的输入，所以不需要A3.\n",
    "\n"
   ]
  },
  {
   "cell_type": "code",
   "execution_count": 72,
   "metadata": {},
   "outputs": [],
   "source": [
    "def forward_propagation(X,parameters):\n",
    "    \"\"\"\n",
    "    实现模型的前向传播，模型结构为LINEAR -> RELU -> LINEAR -> RELU -> LINEAR -> SOFTMAX\n",
    "    \n",
    "    参数：\n",
    "        X - 输入数据的占位符，维度为（输入节点数量，样本数量）\n",
    "        parameters - 包含了W和b的参数的字典\n",
    "    \n",
    "    返回值：\n",
    "        Z3 - 最后一个LINEAR节点的输出\n",
    "    \n",
    "    \"\"\"\n",
    "    \n",
    "    W1 = parameters['W1']\n",
    "    b1 = parameters['b1']\n",
    "    W2 = parameters['W2']\n",
    "    b2 = parameters['b2']\n",
    "    W3 = parameters['W3']\n",
    "    b3 = parameters['b3']\n",
    "    \n",
    "    \n",
    "                                            # Numpy Equivalents:\n",
    "    Z1 = tf.add(tf.matmul(W1,X),b1)        # Z1 = np.dot(W1, X) + b1\n",
    "    A1 = tf.nn.relu(Z1)                    # A1 = relu(Z1)\n",
    "    Z2 = tf.add(tf.matmul(W2, A1), b2)     # Z2 = np.dot(W2, a1) + b2\n",
    "    A2 = tf.nn.relu(Z2)                    # A2 = relu(Z2)\n",
    "    Z3 = tf.add(tf.matmul(W3, A2), b3)     # Z3 = np.dot(W3,Z2) + b3\n",
    "    \n",
    "    \n",
    "    return Z3"
   ]
  },
  {
   "cell_type": "code",
   "execution_count": 73,
   "metadata": {},
   "outputs": [
    {
     "name": "stdout",
     "output_type": "stream",
     "text": [
      "Z3 = Tensor(\"Add_2:0\", shape=(6, ?), dtype=float32)\n"
     ]
    }
   ],
   "source": [
    "ops.reset_default_graph() #用于清除默认图形堆栈并重置全局默认图形。 \n",
    "with tf.compat.v1.Session ()  as sess:\n",
    "    X,Y = create_placeholders(12288,6)\n",
    "    parameters = initialize_parameters()\n",
    "    Z3 = forward_propagation(X,parameters)\n",
    "    print(\"Z3 = \" + str(Z3))"
   ]
  },
  {
   "cell_type": "markdown",
   "metadata": {},
   "source": [
    "**Expected Output**: \n",
    "\n",
    "<table> \n",
    "    <tr> \n",
    "        <td>\n",
    "            **Z3**\n",
    "        </td>\n",
    "        <td>\n",
    "        Tensor(\"Add_2:0\", shape=(6, None), dtype=float32)\n",
    "        </td>\n",
    "    </tr>\n",
    "\n",
    "</table>"
   ]
  },
  {
   "cell_type": "markdown",
   "metadata": {},
   "source": [
    "你可能已经注意到，正向传播不会输出任何缓存。当我们解决完brackpropagation时，你就理解了。"
   ]
  },
  {
   "cell_type": "markdown",
   "metadata": {},
   "source": [
    "### 2.4 Compute cost\n",
    "\n",
    "就像前面一样，计算cost是非常简单的，我们可以使用： \n",
    "```python\n",
    "tf.reduce_mean(tf.nn.softmax_cross_entropy_with_logits(logits = ..., labels = ...))\n",
    "```\n",
    "**问题**: 实现下面的cost函数  \n",
    "\n",
    "- 重要的是，要确保输入到`tf.nn.softmax_cross_entropy_with_logits`的 \"`logits`\" and \"`labels`\"的维度是符合预期的，所以，我们转置了Z3 和 Y  \n",
    "- 还有就是  `tf.reduce_mean` 用于对示例进行求和"
   ]
  },
  {
   "cell_type": "code",
   "execution_count": 74,
   "metadata": {},
   "outputs": [],
   "source": [
    "def compute_cost(Z3,Y):\n",
    "    \"\"\"\n",
    "    计算cost\n",
    "    \n",
    "    参数：\n",
    "        Z3 - 前向传播的结果\n",
    "        Y - 正确的标签，一个占位符，和Z3的维度相同\n",
    "        \n",
    "    返回值：\n",
    "        cost - 成本值\n",
    "    \n",
    "    \n",
    "    \"\"\"\n",
    "    \n",
    "    # 为了满足tf.nn.softmax_cross_entropy_的tensorflow要求\n",
    "    logits = tf.transpose(Z3) #转置\n",
    "    labels = tf.transpose(Y)  #转置\n",
    "    \n",
    "    cost = tf.reduce_mean(tf.nn.softmax_cross_entropy_with_logits(logits=logits,labels=labels))\n",
    "    \n",
    "    return cost"
   ]
  },
  {
   "cell_type": "code",
   "execution_count": 75,
   "metadata": {},
   "outputs": [
    {
     "name": "stdout",
     "output_type": "stream",
     "text": [
      "cost = Tensor(\"Mean:0\", shape=(), dtype=float32)\n"
     ]
    }
   ],
   "source": [
    "ops.reset_default_graph()\n",
    " \n",
    "with tf.compat.v1.Session () as sess:\n",
    "    X,Y = create_placeholders(12288,6)\n",
    "    parameters = initialize_parameters()\n",
    "    Z3 = forward_propagation(X,parameters)\n",
    "    cost = compute_cost(Z3,Y)\n",
    "    print(\"cost = \" + str(cost))"
   ]
  },
  {
   "cell_type": "markdown",
   "metadata": {},
   "source": [
    "**Expected Output**: \n",
    "\n",
    "<table> \n",
    "    <tr> \n",
    "        <td>\n",
    "            **cost**\n",
    "        </td>\n",
    "        <td>\n",
    "        Tensor(\"Mean:0\", shape=(), dtype=float32)\n",
    "        </td>\n",
    "    </tr>\n",
    "\n",
    "</table>"
   ]
  },
  {
   "cell_type": "markdown",
   "metadata": {},
   "source": [
    "### 2.5 - Backward propagation & parameter updates\n",
    "\n",
    "这就是框架的优势了，所有反向传播和参数更新都可以用一行代码完成。将其合并到模型中非常容易。\n",
    "\n",
    "在计算成本函数之后。我们将创建一个“`optimizer`”对象。在运行tf.session时，调用此对象以及成本。调用时，它将使用选择的方法和学习率对给定的成本进行优化。\n",
    "\n",
    "\n",
    "例如，对于梯度下降，对应的优化器是：   \n",
    "```python\n",
    "optimizer = tf.train.GradientDescentOptimizer(learning_rate = learning_rate).minimize(cost)\n",
    "```\n",
    "\n",
    "要进行优化，请执行以下操作： \n",
    "```python\n",
    "_ , c = sess.run([optimizer, cost], feed_dict={X: minibatch_X, Y: minibatch_Y})\n",
    "```\n",
    "这将利用相反的顺序通过TensorFlow计算图来计算梯度。从cost 到 inputs\n",
    "\n",
    "\n",
    "**注意** 编写代码时，我们经常使用 _ 作为一次性变量来接收我们稍后不需要使用的值。 这里，_ 接收我们不需要的优化器的评估值（并且c取值为成本变量的值）"
   ]
  },
  {
   "cell_type": "markdown",
   "metadata": {},
   "source": [
    "### 2.6 - Building the model\n",
    "\n",
    "现在，将所有的内容组合起来\n",
    "\n",
    "**练习:** 实现这个模型，我们将调用前面已经实现的功能  "
   ]
  },
  {
   "cell_type": "code",
   "execution_count": 76,
   "metadata": {},
   "outputs": [],
   "source": [
    "def model(X_train,Y_train,X_test,Y_test,\n",
    "\t\tlearning_rate=0.0001,num_epochs=1500,minibatch_size=32,\n",
    "\t\tprint_cost=True,is_plot=True):\n",
    "    \"\"\"\n",
    "    实现一个三层的TensorFlow神经网络,模型结构为： LINEAR->RELU->LINEAR->RELU->LINEAR->SOFTMAX\n",
    "    \n",
    "    参数：\n",
    "        X_train -- 训练集，维度为（输入大小（输入节点数量）= 12288, 样本数量 = 1080）\n",
    "        Y_train -- 训练集分类数量，维度为（输出大小(输出节点数量) = 6, 样本数量 = 1080）\n",
    "        X_test -- 测试集，维度为（输入大小（输入节点数量） = 12288, 样本数量 = 120）\n",
    "        Y_test -- 测试集分类数量，维度为（输出大小(输出节点数量) = 6, 样本数量 = 120）\n",
    "        learning_rate -- 优化的学习率\n",
    "        num_epochs -- 整个训练集的遍历次数\n",
    "        mini_batch_size -- minibatch的大小\n",
    "        print_cost -- 是否打印成本，为真则每100代打印一次\n",
    "        is_plot -- 是否绘制曲线图\n",
    "    \n",
    "    返回：\n",
    "        parameters -- 学习得到的参数\n",
    "    \"\"\"\n",
    "    ops.reset_default_graph() #可以重新运行模型而不覆盖tf变量\n",
    "    tf.random.set_seed(1) # 保证结果相同\n",
    "    seed = 3\n",
    "    (n_x , m)  = X_train.shape               #获取输入节点数和样本数\n",
    "    n_y = Y_train.shape[0]                   #获取输出节点数\n",
    "    costs = []                               #成本集\n",
    "    \n",
    "    #给X和Y创建placeholder（占位符）\n",
    "    X,Y = create_placeholders(n_x,n_y)\n",
    "    \n",
    "    #初始化参数\n",
    "    parameters = initialize_parameters()\n",
    "    \n",
    "    #前向传播 在TensorFlow计算图中构建前向传播\n",
    "    Z3 = forward_propagation(X,parameters)\n",
    "    \n",
    "    #计算成本 给TensorFlow计算图添加cost计算\n",
    "    cost = compute_cost(Z3,Y)\n",
    "    \n",
    "    #反向传播，定义TensorFlow优化器，这里我们使用Adam优化\n",
    "    optimizer = tf.compat.v1.train.AdamOptimizer(learning_rate=learning_rate).minimize(cost)\n",
    "    \n",
    "    #初始化所有的参数和变量\n",
    "    init = tf.compat.v1.global_variables_initializer()\n",
    "    \n",
    "    #开始会话并计算\n",
    "    with tf.compat.v1.Session () as sess:\n",
    "        #初始化\n",
    "        sess.run(init)\n",
    "        \n",
    "        #正常训练的循环\n",
    "        for epoch in range(num_epochs):\n",
    "            \n",
    "            epoch_cost = 0  #每代的成本\n",
    "            num_minibatches = int(m / minibatch_size)    #minibatch的总数量\n",
    "            seed = seed + 1\n",
    "            minibatches = tf_utils.random_mini_batches(X_train,Y_train,minibatch_size,seed)\n",
    "            \n",
    "            for minibatch in minibatches:\n",
    "                \n",
    "                #选择一个minibatch用于此次迭代\n",
    "                (minibatch_X,minibatch_Y) = minibatch\n",
    "                \n",
    "                #开始运行session，注意feed_dict 传递数据\n",
    "                _ , minibatch_cost = sess.run([optimizer,cost],feed_dict={X:minibatch_X,Y:minibatch_Y})\n",
    "                \n",
    "                #计算这个minibatch在这一代中所占的误差\n",
    "                epoch_cost = epoch_cost + minibatch_cost / num_minibatches\n",
    "                \n",
    "            #记录，打印成本\n",
    "            if epoch % 5 == 0:\n",
    "                costs.append(epoch_cost) # 记录\n",
    "                #是否打印\n",
    "                if print_cost and epoch % 100 == 0:\n",
    "                        print(\"epoch = \" + str(epoch) + \"    epoch_cost = \" + str(epoch_cost))\n",
    "        \n",
    "        #是否绘制图谱\n",
    "        if is_plot:\n",
    "            plt.plot(np.squeeze(costs))\n",
    "            plt.ylabel('cost')\n",
    "            plt.xlabel('iterations (per tens)')\n",
    "            plt.title(\"Learning rate =\" + str(learning_rate))\n",
    "            plt.show()\n",
    "        \n",
    "        #保存学习得到的参数\n",
    "        parameters = sess.run(parameters)\n",
    "        print(\"参数已经保存到session。\")\n",
    "        \n",
    "        #计算当前的预测结果\n",
    "        correct_prediction = tf.equal(tf.argmax(Z3),tf.argmax(Y))\n",
    "        \n",
    "        #计算准确率\n",
    "        accuracy = tf.reduce_mean(tf.cast(correct_prediction,\"float\"))\n",
    "        \n",
    "        print(\"训练集的准确率：\", accuracy.eval({X: X_train, Y: Y_train}))\n",
    "        print(\"测试集的准确率:\", accuracy.eval({X: X_test, Y: Y_test}))\n",
    "        \n",
    "        return parameters"
   ]
  },
  {
   "cell_type": "code",
   "execution_count": 77,
   "metadata": {},
   "outputs": [
    {
     "name": "stdout",
     "output_type": "stream",
     "text": [
      "epoch = 0    epoch_cost = 1.8665231249549175\n",
      "epoch = 100    epoch_cost = 0.8127114574114482\n",
      "epoch = 200    epoch_cost = 0.5717915585546782\n",
      "epoch = 300    epoch_cost = 0.39651923739548883\n",
      "epoch = 400    epoch_cost = 0.2729283634460334\n",
      "epoch = 500    epoch_cost = 0.19333272178967792\n",
      "epoch = 600    epoch_cost = 0.12590982087633826\n",
      "epoch = 700    epoch_cost = 0.08381715574950888\n",
      "epoch = 800    epoch_cost = 0.055905664339661605\n",
      "epoch = 900    epoch_cost = 0.03187120914685004\n",
      "epoch = 1000    epoch_cost = 0.02209022968555942\n",
      "epoch = 1100    epoch_cost = 0.011794816984823252\n",
      "epoch = 1200    epoch_cost = 0.00876782861340678\n",
      "epoch = 1300    epoch_cost = 0.005689190961702757\n",
      "epoch = 1400    epoch_cost = 0.0031682388913450822\n"
     ]
    },
    {
     "data": {
      "image/png": "[encoded data removed]",
      "text/plain": [
       "<Figure size 432x288 with 1 Axes>"
      ]
     },
     "metadata": {
      "needs_background": "light"
     },
     "output_type": "display_data"
    },
    {
     "name": "stdout",
     "output_type": "stream",
     "text": [
      "参数已经保存到session。\n",
      "训练集的准确率： 1.0\n",
      "测试集的准确率: 0.85833335\n",
      "CPU的执行时间 = 171.54330796800002 秒\n"
     ]
    }
   ],
   "source": [
    "#开始时间\n",
    "start_time = time.perf_counter() \n",
    "#开始训练\n",
    "parameters = model(X_train, Y_train, X_test, Y_test)\n",
    "#结束时间\n",
    "end_time = time.perf_counter() \n",
    "#计算时差\n",
    "print(\"CPU的执行时间 = \" + str(end_time - start_time) + \" 秒\" )"
   ]
  },
  {
   "cell_type": "markdown",
   "metadata": {},
   "source": [
    "**Expected Output**:\n",
    "\n",
    "<table> \n",
    "    <tr> \n",
    "        <td>\n",
    "            **Train Accuracy**\n",
    "        </td>\n",
    "        <td>\n",
    "        1.0\n",
    "        </td>\n",
    "    </tr>\n",
    "    <tr> \n",
    "        <td>\n",
    "            **Test Accuracy**\n",
    "        </td>\n",
    "        <td>\n",
    "        0.85833335\n",
    "        </td>\n",
    "    </tr>\n",
    "\n",
    "</table>\n",
    "\n",
    "现在，我们的算法应可以识别0-5的手势，准确率0.85。也还行哈\n",
    "\n",
    "**提示**:\n",
    "- 模型似乎是可以承载0-5的计算，但是好像存在过拟合化问题。后面你可以添加正则化项来解决该问题"
   ]
  },
  {
   "cell_type": "code",
   "execution_count": 31,
   "metadata": {},
   "outputs": [
    {
     "data": {
      "text/plain": [
       "array([[0., 1., 0., 0., 0.]], dtype=float32)"
      ]
     },
     "execution_count": 31,
     "metadata": {},
     "output_type": "execute_result"
    }
   ],
   "source": [
    "one_hot_matrix([1],5).T"
   ]
  },
  {
   "cell_type": "markdown",
   "metadata": {},
   "source": [
    "### 2.7 - Test with your own image (optional / ungraded exercise)"
   ]
  },
  {
   "cell_type": "code",
   "execution_count": 100,
   "metadata": {},
   "outputs": [],
   "source": [
    "import matplotlib.pyplot as plt # plt 用于显示图片\n",
    "import matplotlib.image as mpimg # mpimg 用于读取图片\n",
    "import numpy as np\n",
    "import tensorflow.compat.v1 as tf\n",
    "tf.disable_v2_behavior()\n",
    "\n",
    "from PIL import Image\n",
    "# num_px = 64\n",
    "# image = Image.open('1.jpg')\n",
    " \n",
    "# my_image = np.array(image.resize((num_px,num_px),Image.ANTIALIAS))\n",
    "# plt.imshow(my_image) \n",
    "\n",
    "# my_image = my_image.reshape(num_px*num_px*3 , -1)\n",
    "# # my_y = np.array([0,1,0,0,0,0])\n",
    "# my_y = one_hot_matrix([1],6).T\n",
    "# Z3 = tf_utils.forward_propagation_for_predict(my_image,parameters)\n",
    "# my_y = np.array(my_y).T\n",
    "# correct_prediction = tf.equal(tf.argmax(Z3),tf.argmax(my_y))\n",
    "# with tf.Session() as sess:\n",
    "#     print(\"ans is \",correct_prediction.eval(session=sess) )"
   ]
  },
  {
   "cell_type": "code",
   "execution_count": 101,
   "metadata": {},
   "outputs": [],
   "source": [
    "def test_my_image( image_name , ans ):\n",
    "    num_px = 64\n",
    "    image = Image.open(image_name)\n",
    " \n",
    "    my_image = np.array(image.resize((num_px,num_px),Image.ANTIALIAS))\n",
    "    plt.imshow(my_image) \n",
    "\n",
    "    my_image = my_image.reshape(num_px*num_px*3 , -1)\n",
    "    my_y = one_hot_matrix([ans],6).T\n",
    "    Z3 = tf_utils.forward_propagation_for_predict(my_image,parameters)\n",
    "    my_y = np.array(my_y).T\n",
    "    correct_prediction = tf.equal(tf.argmax(Z3),tf.argmax(my_y))\n",
    "    with tf.Session() as sess:\n",
    "        print(\"ans is \",correct_prediction.eval(session=sess) )"
   ]
  },
  {
   "cell_type": "code",
   "execution_count": 102,
   "metadata": {},
   "outputs": [
    {
     "name": "stdout",
     "output_type": "stream",
     "text": [
      "ans is  [ True]\n"
     ]
    },
    {
     "data": {
      "image/png": "[encoded data removed]",
      "text/plain": [
       "<Figure size 432x288 with 1 Axes>"
      ]
     },
     "metadata": {
      "needs_background": "light"
     },
     "output_type": "display_data"
    }
   ],
   "source": [
    "test_my_image('0.jpg',0)"
   ]
  },
  {
   "cell_type": "code",
   "execution_count": 103,
   "metadata": {},
   "outputs": [
    {
     "name": "stdout",
     "output_type": "stream",
     "text": [
      "ans is  [False]\n"
     ]
    },
    {
     "data": {
      "image/png": "[encoded data removed]",
      "text/plain": [
       "<Figure size 432x288 with 1 Axes>"
      ]
     },
     "metadata": {
      "needs_background": "light"
     },
     "output_type": "display_data"
    }
   ],
   "source": [
    "test_my_image('1.jpg',1)"
   ]
  },
  {
   "cell_type": "code",
   "execution_count": 104,
   "metadata": {},
   "outputs": [
    {
     "name": "stdout",
     "output_type": "stream",
     "text": [
      "ans is  [ True]\n"
     ]
    },
    {
     "data": {
      "image/png": "[encoded data removed]",
      "text/plain": [
       "<Figure size 432x288 with 1 Axes>"
      ]
     },
     "metadata": {
      "needs_background": "light"
     },
     "output_type": "display_data"
    }
   ],
   "source": [
    "test_my_image('2.jpg',2)"
   ]
  },
  {
   "cell_type": "code",
   "execution_count": 105,
   "metadata": {},
   "outputs": [
    {
     "name": "stdout",
     "output_type": "stream",
     "text": [
      "ans is  [False]\n"
     ]
    },
    {
     "data": {
      "image/png": "[encoded data removed]",
      "text/plain": [
       "<Figure size 432x288 with 1 Axes>"
      ]
     },
     "metadata": {
      "needs_background": "light"
     },
     "output_type": "display_data"
    }
   ],
   "source": [
    "test_my_image('3.jpg',3)"
   ]
  },
  {
   "cell_type": "code",
   "execution_count": 106,
   "metadata": {},
   "outputs": [
    {
     "name": "stdout",
     "output_type": "stream",
     "text": [
      "ans is  [False]\n"
     ]
    },
    {
     "data": {
      "image/png": "[encoded data removed]",
      "text/plain": [
       "<Figure size 432x288 with 1 Axes>"
      ]
     },
     "metadata": {
      "needs_background": "light"
     },
     "output_type": "display_data"
    }
   ],
   "source": [
    "test_my_image('4.jpg',4)"
   ]
  },
  {
   "cell_type": "markdown",
   "metadata": {},
   "source": [
    "果然还是有点 人工智障的感觉哈"
   ]
  }
 ],
 "metadata": {
  "kernelspec": {
   "display_name": "Python [conda env:tensorflow]",
   "language": "python",
   "name": "conda-env-tensorflow-py"
  },
  "language_info": {
   "codemirror_mode": {
    "name": "ipython",
    "version": 3
   },
   "file_extension": ".py",
   "mimetype": "text/x-python",
   "name": "python",
   "nbconvert_exporter": "python",
   "pygments_lexer": "ipython3",
   "version": "3.7.11"
  }
 },
 "nbformat": 4,
 "nbformat_minor": 4
}
